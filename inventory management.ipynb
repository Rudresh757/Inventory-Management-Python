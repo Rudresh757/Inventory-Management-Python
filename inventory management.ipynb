{
 "cells": [
  {
   "cell_type": "code",
   "execution_count": 11,
   "id": "8eb666f9-d4fc-4105-a817-c294bd654fc1",
   "metadata": {},
   "outputs": [
    {
     "name": "stdin",
     "output_type": "stream",
     "text": [
      "enter your name fdkfmdk\n",
      "enter your no. 9999999999\n",
      "enter the id of product 1\n",
      "enter product quentity  1\n"
     ]
    },
    {
     "name": "stdout",
     "output_type": "stream",
     "text": [
      "-------------------------------------------\n",
      "Product name     = 5 star\n",
      "Product price    = 5\n",
      "Product quentity = 1\n",
      "-------------------------------------------\n",
      "Total            = 5\n",
      "Inventory Updated\n"
     ]
    }
   ],
   "source": [
    "import time\n",
    "\n",
    "fd=open(\"Inventory.txt\",\"r\")\n",
    "#print(fd.read())\n",
    "ui_name=input(\"enter your name\")\n",
    "ui_phone=input(\"enter your no.\")\n",
    "ui_product_no=input(\"enter the id of product\")\n",
    "ui_product_qu=input(\"enter product quentity \")\n",
    "products=fd.read().split(\"\\n\")\n",
    "fd.close()\n",
    "updated=[]\n",
    "for product in products:\n",
    "    product_details=product.split(\",\")\n",
    "    if(product_details[0]==ui_product_no):\n",
    "        if(int(product_details[3])>=int(ui_product_qu)):\n",
    "            print(\"-------------------------------------------\")\n",
    "            print(\"Product name     =\", product_details[1])\n",
    "            print(\"Product price    =\", product_details[2])\n",
    "            print(\"Product quentity =\", ui_product_qu)\n",
    "            print(\"-------------------------------------------\")\n",
    "            print(\"Total            =\", int(ui_product_qu) * int(product_details[2]))\n",
    "            product_details[3]= str(int (product_details[3])-int(ui_product_qu))\n",
    "            fd=open(\"sales.txt\",'a')\n",
    "            sales_details=ui_name+\",\"+ui_phone+\",\"+product_details[1]+\"\\n\"\n",
    "            fd.write(sales_details)\n",
    "            fd.close()\n",
    "            \n",
    "        else:\n",
    "            print(\"We don't have the quantity you asked \")\n",
    "            print(\"we only have\",product_details[3],)\n",
    "            ch=input(\"if you want this much please enter Y/N\")\n",
    "            if(ch==\"Y\" or ch==\"y\"):\n",
    "                     print(\"-------------------------------------------\")\n",
    "                     print(\"Product name     =\", product_details[1])\n",
    "                     print(\"Product price    =\", product_details[2])\n",
    "                     print(\"Product quentity =\", product_details[3])\n",
    "                     print(\"-------------------------------------------\")\n",
    "                     print(\"Total            =\", int(product_details[3]) * int(product_details[2]))\n",
    "                     product_details[3]= \"0\"\n",
    "                     fd=open(\"sales.txt\",'a')\n",
    "                     sales_details=ui_name+\",\"+ui_phone+\",\"+product_details[1]+\"\\n\"\n",
    "                     fd.write(sales_details)\n",
    "                     fd.close()\n",
    "    updated.append(product_details)\n",
    "lst=[]\n",
    "for i in updated:\n",
    "    prod=i[0]+\",\"+i[1]+\",\"+i[2]+\",\"+i[3]+\"\\n\"\n",
    "    lst.append(prod)\n",
    "\n",
    "lst[-1]=lst[-1][:-1]\n",
    "fd=open(\"Inventory.txt\",\"w\")\n",
    "for i in lst:\n",
    "    fd.write(i)\n",
    "\n",
    "fd.close()\n",
    "print(\"Inventory Updated\")"
   ]
  },
  {
   "cell_type": "code",
   "execution_count": null,
   "id": "919ff8c7-635b-4d26-807b-ea82aa022cb8",
   "metadata": {},
   "outputs": [],
   "source": []
  }
 ],
 "metadata": {
  "kernelspec": {
   "display_name": "Python 3 (ipykernel)",
   "language": "python",
   "name": "python3"
  },
  "language_info": {
   "codemirror_mode": {
    "name": "ipython",
    "version": 3
   },
   "file_extension": ".py",
   "mimetype": "text/x-python",
   "name": "python",
   "nbconvert_exporter": "python",
   "pygments_lexer": "ipython3",
   "version": "3.12.4"
  }
 },
 "nbformat": 4,
 "nbformat_minor": 5
}
